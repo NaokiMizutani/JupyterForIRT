{
 "cells": [
  {
   "cell_type": "markdown",
   "metadata": {},
   "source": [
    "# R による単回帰分析"
   ]
  },
  {
   "cell_type": "code",
   "execution_count": 2,
   "metadata": {
    "collapsed": true
   },
   "outputs": [],
   "source": [
    "import numpy as np\n",
    "import pandas\n",
    "import matplotlib.pyplot as plt\n",
    "import pyper"
   ]
  },
  {
   "cell_type": "markdown",
   "metadata": {},
   "source": [
    "## データの作成\n",
    "\n",
    "仮想的に 100名の身長・体重データを作成し、身長を独立変数、体重を従属変数とした単回帰分析を行う。\n",
    "\n",
    "データの作成は numpy.random の 正規分布生成関数を用いる。"
   ]
  },
  {
   "cell_type": "code",
   "execution_count": 9,
   "metadata": {
    "collapsed": false
   },
   "outputs": [],
   "source": [
    "# 身長データ： 平均値 171.7 cm, 標準偏差 5.6 cm\n",
    "x = np.random.normal(171.7, 4.69, 100)\n",
    "x.sort()\n",
    "xdelta = np.random.randn(100) * 3.07\n",
    "x = x + xdelta\n",
    "\n",
    "# 体重データ： 平均値 64.0 kg, 標準偏差 8.4 kg\n",
    "y = np.random.normal(64.0, 7.03, 100)\n",
    "y.sort()\n",
    "ydelta = np.random.randn(100) * 4.60\n",
    "y = y + ydelta"
   ]
  },
  {
   "cell_type": "markdown",
   "metadata": {},
   "source": [
    "## データを散布図により確認\n",
    "\n",
    "身長・体重間の散布図を描く。"
   ]
  },
  {
   "cell_type": "code",
   "execution_count": 10,
   "metadata": {
    "collapsed": false
   },
   "outputs": [],
   "source": [
    "%matplotlib inline"
   ]
  },
  {
   "cell_type": "code",
   "execution_count": 23,
   "metadata": {
    "collapsed": false
   },
   "outputs": [
    {
     "data": {
      "text/plain": [
       "<matplotlib.text.Text at 0x10a174898>"
      ]
     },
     "execution_count": 23,
     "metadata": {},
     "output_type": "execute_result"
    },
    {
     "data": {
      "image/png": "[encoded data removed]",
      "text/plain": [
       "<matplotlib.figure.Figure at 0x109904e10>"
      ]
     },
     "metadata": {},
     "output_type": "display_data"
    }
   ],
   "source": [
    "plt.scatter(x, y, marker='.', linewidths=3)\n",
    "plt.grid(True)\n",
    "plt.title('Sample Graph')\n",
    "plt.xlabel('Height')\n",
    "plt.ylabel('Weight')"
   ]
  },
  {
   "cell_type": "markdown",
   "metadata": {},
   "source": [
    "## R を用いて分析するためにデータを整形\n",
    "\n",
    "データ解析ライブラリ pandas を用いて、R 用にデータを整形する。"
   ]
  },
  {
   "cell_type": "code",
   "execution_count": 24,
   "metadata": {
    "collapsed": false
   },
   "outputs": [
    {
     "data": {
      "text/html": [
       "<div>\n",
       "<table border=\"1\" class=\"dataframe\">\n",
       "  <thead>\n",
       "    <tr style=\"text-align: right;\">\n",
       "      <th></th>\n",
       "      <th>X</th>\n",
       "      <th>Y</th>\n",
       "    </tr>\n",
       "  </thead>\n",
       "  <tbody>\n",
       "    <tr>\n",
       "      <th>0</th>\n",
       "      <td>157.193907</td>\n",
       "      <td>50.840044</td>\n",
       "    </tr>\n",
       "    <tr>\n",
       "      <th>1</th>\n",
       "      <td>161.269620</td>\n",
       "      <td>52.714039</td>\n",
       "    </tr>\n",
       "    <tr>\n",
       "      <th>2</th>\n",
       "      <td>166.167810</td>\n",
       "      <td>49.639690</td>\n",
       "    </tr>\n",
       "    <tr>\n",
       "      <th>3</th>\n",
       "      <td>166.271387</td>\n",
       "      <td>53.323267</td>\n",
       "    </tr>\n",
       "    <tr>\n",
       "      <th>4</th>\n",
       "      <td>163.990227</td>\n",
       "      <td>49.424975</td>\n",
       "    </tr>\n",
       "  </tbody>\n",
       "</table>\n",
       "</div>"
      ],
      "text/plain": [
       "            X          Y\n",
       "0  157.193907  50.840044\n",
       "1  161.269620  52.714039\n",
       "2  166.167810  49.639690\n",
       "3  166.271387  53.323267\n",
       "4  163.990227  49.424975"
      ]
     },
     "execution_count": 24,
     "metadata": {},
     "output_type": "execute_result"
    }
   ],
   "source": [
    "df_dict = {'X': x, 'Y': y}\n",
    "df = pandas.DataFrame(df_dict)\n",
    "df.head()"
   ]
  },
  {
   "cell_type": "markdown",
   "metadata": {},
   "source": [
    "## R による単回帰分析\n",
    "\n",
    "Python から R を動作させるためのライブラリ pyper を用いて、R の lm 関数を起動する。\n",
    "\n",
    "R の分析結果を Python のオブジェクトとして扱うには、 get() 関数を用い、単回帰分析の係数と切片を得る。"
   ]
  },
  {
   "cell_type": "code",
   "execution_count": 37,
   "metadata": {
    "collapsed": false
   },
   "outputs": [
    {
     "name": "stdout",
     "output_type": "stream",
     "text": [
      "----- Result from R/lm -----\n",
      "try({result})\n",
      "\n",
      "Call:\n",
      "lm(formula = Y ~ X, data = df)\n",
      "\n",
      "Coefficients:\n",
      "(Intercept)            X  \n",
      "  -100.5499       0.9597  \n",
      "\n",
      "\n",
      "---------------------------------\n",
      "{'coefficients': array([-100.54988107,    0.95968435])}\n",
      "----- Values in Python -----\n",
      "a = 0.959684347398565, b = -100.549881072498\n",
      "---------------------------------\n"
     ]
    }
   ],
   "source": [
    "r = pyper.R(use_pandas='True')\n",
    "\n",
    "r.assign('df', df)\n",
    "r(\"result <- lm(Y~X, data=df)\")\n",
    "\n",
    "print(\"----- Result from R/lm -----\")\n",
    "print(r(\"result\"))\n",
    "print(\"---------------------------------\")\n",
    "\n",
    "val = r.get(\"result['coefficients']\")\n",
    "print(val)\n",
    "\n",
    "a = val['coefficients'][1]\n",
    "b = val['coefficients'][0]\n",
    "\n",
    "print(\"----- Values in Python -----\")\n",
    "print(\"a = {0}, b = {1}\".format(a, b))\n",
    "print(\"---------------------------------\")"
   ]
  },
  {
   "cell_type": "markdown",
   "metadata": {},
   "source": [
    "## 散布図に回帰直線を追加\n",
    "\n",
    "得られた回帰モデルの係数、切片の値を用いて、散布図に回帰直線を加える。"
   ]
  },
  {
   "cell_type": "code",
   "execution_count": 21,
   "metadata": {
    "collapsed": false
   },
   "outputs": [
    {
     "data": {
      "image/png": "[encoded data removed]",
      "text/plain": [
       "<matplotlib.figure.Figure at 0x109ebbe48>"
      ]
     },
     "metadata": {},
     "output_type": "display_data"
    }
   ],
   "source": [
    "xesti = np.arange(min(x), max(x)+1, 1)\n",
    "yesti = xesti * a + b\n",
    "plt.scatter(x, y, marker='.', linewidths=3)\n",
    "plt.plot(xesti, yesti, '--')\n",
    "plt.grid(True)\n",
    "plt.title('Sample Graph')\n",
    "plt.xlabel('Height')\n",
    "plt.ylabel('Weight')\n",
    "plt.savefig('abc.pdf')"
   ]
  },
  {
   "cell_type": "code",
   "execution_count": null,
   "metadata": {
    "collapsed": true
   },
   "outputs": [],
   "source": []
  }
 ],
 "metadata": {
  "kernelspec": {
   "display_name": "Python 3",
   "language": "python",
   "name": "python3"
  },
  "language_info": {
   "codemirror_mode": {
    "name": "ipython",
    "version": 3
   },
   "file_extension": ".py",
   "mimetype": "text/x-python",
   "name": "python",
   "nbconvert_exporter": "python",
   "pygments_lexer": "ipython3",
   "version": "3.5.1"
  }
 },
 "nbformat": 4,
 "nbformat_minor": 0
}
