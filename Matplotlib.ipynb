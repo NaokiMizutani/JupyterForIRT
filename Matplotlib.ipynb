{
 "cells": [
  {
   "cell_type": "markdown",
   "metadata": {},
   "source": [
    "## matplotlib 入門\n",
    "\n",
    "matplotlib は、Python およびその科学計算用ライブラリ NumPy のためのグラフ描画ライブラリである。matplotlib の[デモページ](http://matplotlib.org/gallery.html) でグラフのバリエーションを確認することができる。\n",
    "\n",
    "本説明は ipython notebook を用いている。Rstudio にもレポート作成に便利な機能があり、knitr というツールを利用するようである。使用方法は、 install.package(\"knitr\") を実行して、新規ファイルとして R Markdown形式を作り、Knit HTMLとして表示させて使う。（[参考](http://takehiko-i-hayashi.hatenablog.com/entry/20120814/1344870901)）"
   ]
  },
  {
   "cell_type": "markdown",
   "metadata": {},
   "source": [
    "### matplotlib の基礎\n",
    "\n",
    "ipython notebook の中にグラフを表示させるには、notebook で\n",
    "%matplotlib inline\n",
    "を実行させる。（この実行がない場合は、別画面に表示される。）\n",
    "\n",
    "または、ipython notebook を立ち上げるときに、 --matplotlib inline のオプションを付けて起動する。\n",
    "\n",
    "matplotlib を動かす場合、数値計算ライブラリ numpy をともに使うことが多い。"
   ]
  },
  {
   "cell_type": "code",
   "execution_count": 1,
   "metadata": {
    "collapsed": true
   },
   "outputs": [],
   "source": [
    "import matplotlib.pyplot as plt\n",
    "import numpy as np"
   ]
  },
  {
   "cell_type": "code",
   "execution_count": 2,
   "metadata": {
    "collapsed": true
   },
   "outputs": [],
   "source": [
    "%matplotlib inline"
   ]
  },
  {
   "cell_type": "markdown",
   "metadata": {},
   "source": [
    "### データ渡しの単純描画\n",
    "\n",
    "数値の配列としての x と、数値の配列としての y （ただし、配列の個数は同じ数） を渡すだけで、棒グラフや折れ線グラフが作成できる。"
   ]
  },
  {
   "cell_type": "code",
   "execution_count": 3,
   "metadata": {
    "collapsed": false
   },
   "outputs": [
    {
     "data": {
      "text/plain": [
       "([<matplotlib.axis.XTick at 0x1059aa198>,\n",
       "  <matplotlib.axis.XTick at 0x1059c2fd0>,\n",
       "  <matplotlib.axis.XTick at 0x1059aacc0>,\n",
       "  <matplotlib.axis.XTick at 0x10843fd30>,\n",
       "  <matplotlib.axis.XTick at 0x108445780>,\n",
       "  <matplotlib.axis.XTick at 0x1084491d0>,\n",
       "  <matplotlib.axis.XTick at 0x108449be0>],\n",
       " <a list of 7 Text xticklabel objects>)"
      ]
     },
     "execution_count": 3,
     "metadata": {},
     "output_type": "execute_result"
    },
    {
     "data": {
      "image/png": "[encoded data removed]",
      "text/plain": [
       "<matplotlib.figure.Figure at 0x10598e518>"
      ]
     },
     "metadata": {},
     "output_type": "display_data"
    }
   ],
   "source": [
    "x = [1, 2, 3, 4, 5, 6, 7]\n",
    "label = ['日', '月', '火', '水', '木', '金', '土']\n",
    "y = np.array([80, 45, 35, 52, 49, 67, 76])\n",
    "plt.bar(x, y, align=\"center\")\n",
    "plt.xticks(x, label)"
   ]
  },
  {
   "cell_type": "code",
   "execution_count": 4,
   "metadata": {
    "collapsed": false
   },
   "outputs": [
    {
     "data": {
      "text/plain": [
       "([<matplotlib.axis.YTick at 0x1084a4f98>,\n",
       "  <matplotlib.axis.YTick at 0x1084b7048>,\n",
       "  <matplotlib.axis.YTick at 0x1084ac0f0>,\n",
       "  <matplotlib.axis.YTick at 0x1084fd9b0>,\n",
       "  <matplotlib.axis.YTick at 0x108502400>,\n",
       "  <matplotlib.axis.YTick at 0x108502e10>,\n",
       "  <matplotlib.axis.YTick at 0x108505860>],\n",
       " <a list of 7 Text yticklabel objects>)"
      ]
     },
     "execution_count": 4,
     "metadata": {},
     "output_type": "execute_result"
    },
    {
     "data": {
      "image/png": "[encoded data removed]",
      "text/plain": [
       "<matplotlib.figure.Figure at 0x10598e0b8>"
      ]
     },
     "metadata": {},
     "output_type": "display_data"
    }
   ],
   "source": [
    "x = [7, 6, 5, 4, 3, 2, 1]\n",
    "plt.barh(x, y, align=\"center\")\n",
    "plt.yticks(x, label)"
   ]
  },
  {
   "cell_type": "code",
   "execution_count": 5,
   "metadata": {
    "collapsed": false
   },
   "outputs": [
    {
     "data": {
      "text/plain": [
       "[<matplotlib.lines.Line2D at 0x108714630>]"
      ]
     },
     "execution_count": 5,
     "metadata": {},
     "output_type": "execute_result"
    },
    {
     "data": {
      "image/png": "[encoded data removed]",
      "text/plain": [
       "<matplotlib.figure.Figure at 0x1085a8c18>"
      ]
     },
     "metadata": {},
     "output_type": "display_data"
    }
   ],
   "source": [
    "x = np.array([1, 2, 3, 4])\n",
    "y = np.array([2, 3, 1, 4])\n",
    "plt.plot(x, y)"
   ]
  },
  {
   "cell_type": "markdown",
   "metadata": {},
   "source": [
    "配列は np.array() 関数によって作る。また、規則正しい数列の配列データを生成する方法として、np.arange() 関数がしばしば利用される。\n",
    "\n",
    "numpy.arange([start, ]stop, [step, ]dtype=None) : 　\n",
    "\n",
    "    区間 start 〜 stop を step 間隔のデータを生成, dtype は np.int64 や np.float64 と必要に応じて指定する。\n",
    "\n",
    "numpy.linspace(start, stop, num=50, endpoint=True, retstep=False, dtype=None) :  　\n",
    "\n",
    "    区間 start 〜 stop を num 等分したデータを生成する。endpoint は、stop を含むかどうかを指定する。（endpoint=True: 隣との距離が等しい num 個の数を生成、endpoint=False: 区間を等分に区切ったそれぞれの区間の最小値の列を生成）\n",
    "\n",
    "numpy.logspace(start, stop, num=50, endpoint=True, base=10.0, dtype=None) :  \n",
    "\n",
    "    区間 start 〜 stop を num 等分した対数データを生成する。endpoint は、stop を含むかどうかを指定する。base で対数の底を指定する。\n"
   ]
  },
  {
   "cell_type": "markdown",
   "metadata": {},
   "source": [
    "これら関数が生成するオブジェクトは、 ndarray クラスである。そして、ndarray クラスの引数をとって ndarray クラスの値を返す関数が多数用意されており、ユニバーサル関数（キーワード : ufunc）という。たとえば、numpy.sqrt() 関数に ndarray クラスの引数を与えると、配列の要素それぞれの平方根を要素とする ndarray クラスを返す動作を行う。"
   ]
  },
  {
   "cell_type": "code",
   "execution_count": 6,
   "metadata": {
    "collapsed": false
   },
   "outputs": [
    {
     "name": "stdout",
     "output_type": "stream",
     "text": [
      "1.73205080757\n"
     ]
    }
   ],
   "source": [
    "x = 3\n",
    "y = np.sqrt(x)\n",
    "print(y)"
   ]
  },
  {
   "cell_type": "code",
   "execution_count": 7,
   "metadata": {
    "collapsed": false
   },
   "outputs": [
    {
     "name": "stdout",
     "output_type": "stream",
     "text": [
      "[ 1.          1.41421356  1.73205081]\n"
     ]
    },
    {
     "data": {
      "text/plain": [
       "numpy.ndarray"
      ]
     },
     "execution_count": 7,
     "metadata": {},
     "output_type": "execute_result"
    }
   ],
   "source": [
    "x = np.arange(1, 4)\n",
    "y = np.sqrt(x)\n",
    "print(y)\n",
    "type(y)"
   ]
  },
  {
   "cell_type": "code",
   "execution_count": 8,
   "metadata": {
    "collapsed": false
   },
   "outputs": [
    {
     "data": {
      "text/plain": [
       "[<matplotlib.lines.Line2D at 0x10880cdd8>]"
      ]
     },
     "execution_count": 8,
     "metadata": {},
     "output_type": "execute_result"
    },
    {
     "data": {
      "image/png": "[encoded data removed]",
      "text/plain": [
       "<matplotlib.figure.Figure at 0x1085cc2e8>"
      ]
     },
     "metadata": {},
     "output_type": "display_data"
    }
   ],
   "source": [
    "x = np.arange(-4, 4, 0.1)\n",
    "y = np.sin(x)\n",
    "plt.plot(x, y)"
   ]
  },
  {
   "cell_type": "markdown",
   "metadata": {},
   "source": [
    "### 乱数発生\n",
    "\n",
    "#### 一様乱数\n",
    "\n",
    "numpy.random.rand() :  \n",
    "\n",
    "　　　　0 〜 1 の一様乱数を１個生成\n",
    "\n",
    "numpy.random.rand(100) :   \n",
    "\n",
    "　　　　0 〜 1 の一様乱数を100個、ベクトルとして生成  \n",
    "\n",
    "numpy.random.rand(10,10) :   \n",
    "\n",
    "　　　　0 〜 1 の一様乱数を 10x10 の行列として生成\n",
    "\n",
    "numpy.random.rand(100) * 3 + 1 :   \n",
    "\n",
    "　　　　1 〜 4 の一様乱数を 10x10 の行列として生成\n",
    "\n",
    "#### 標準正規分布\n",
    "\n",
    "numpy.random.randn() :   \n",
    "\n",
    "    標準正規分布に従う乱数を１個生成\n",
    "\n",
    "numpy.random.randn(10) :   \n",
    "\n",
    "    標準正規分布に従う乱数を１0個生成\n",
    "\n",
    "numpy.random.randn(10,10) : \n",
    "\n",
    "    標準正規分布に従う乱数を１0x10の行列として生成\n",
    "\n",
    "#### 二項分布\n",
    "\n",
    "numpy.random.binomical(n=10, p=0.4) :   \n",
    "\n",
    "    確率 p, 10回思考した場合のTの個数\n",
    "\n",
    "#### ポアソン分布\n",
    "\n",
    "numpy.random.poisson(lam=5) :  \n",
    "\n",
    "    ポアソン分布の回数の分布, lam は平均値\n",
    "\n",
    "#### ベータ分布\n",
    "\n",
    "numpy.random.beta(a=2, b=3) :   \n",
    "\n",
    "    ベータ分布"
   ]
  },
  {
   "cell_type": "code",
   "execution_count": 9,
   "metadata": {
    "collapsed": false
   },
   "outputs": [
    {
     "data": {
      "text/plain": [
       "(array([  0.,   1.,   0.,   5.,   1.,  20.,  31.,  49.,  69.,  78.,  83.,\n",
       "         67.,  44.,  31.,  16.,   2.,   1.,   2.,   0.,   0.]),\n",
       " array([-4. , -3.6, -3.2, -2.8, -2.4, -2. , -1.6, -1.2, -0.8, -0.4,  0. ,\n",
       "         0.4,  0.8,  1.2,  1.6,  2. ,  2.4,  2.8,  3.2,  3.6,  4. ]),\n",
       " <a list of 20 Patch objects>)"
      ]
     },
     "execution_count": 9,
     "metadata": {},
     "output_type": "execute_result"
    },
    {
     "data": {
      "image/png": "[encoded data removed]",
      "text/plain": [
       "<matplotlib.figure.Figure at 0x1088b6be0>"
      ]
     },
     "metadata": {},
     "output_type": "display_data"
    }
   ],
   "source": [
    "vals = np.random.randn(500)\n",
    "plt.hist(vals, bins=20, range=(-4, 4))"
   ]
  },
  {
   "cell_type": "code",
   "execution_count": 10,
   "metadata": {
    "collapsed": false
   },
   "outputs": [
    {
     "data": {
      "text/plain": [
       "[<matplotlib.lines.Line2D at 0x108b66ef0>]"
      ]
     },
     "execution_count": 10,
     "metadata": {},
     "output_type": "execute_result"
    },
    {
     "data": {
      "image/png": "[encoded data removed]",
      "text/plain": [
       "<matplotlib.figure.Figure at 0x108a31f28>"
      ]
     },
     "metadata": {},
     "output_type": "display_data"
    }
   ],
   "source": [
    "x = np.random.randn(30)\n",
    "y = np.sin(x) + np.random.randn(30) / 10\n",
    "plt.plot(x, y, \"o\")"
   ]
  }
 ],
 "metadata": {
  "kernelspec": {
   "display_name": "Python 3",
   "language": "python",
   "name": "python3"
  },
  "language_info": {
   "codemirror_mode": {
    "name": "ipython",
    "version": 3
   },
   "file_extension": ".py",
   "mimetype": "text/x-python",
   "name": "python",
   "nbconvert_exporter": "python",
   "pygments_lexer": "ipython3",
   "version": "3.5.1"
  }
 },
 "nbformat": 4,
 "nbformat_minor": 0
}
