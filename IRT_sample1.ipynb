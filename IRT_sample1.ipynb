{
 "cells": [
  {
   "cell_type": "code",
   "execution_count": 1,
   "metadata": {
    "collapsed": false
   },
   "outputs": [],
   "source": [
    "import pyper\n",
    "import pandas as pd\n",
    "import matplotlib.pyplot as plt\n",
    "import numpy as np\n",
    "import math"
   ]
  },
  {
   "cell_type": "code",
   "execution_count": 2,
   "metadata": {
    "collapsed": false
   },
   "outputs": [
    {
     "data": {
      "text/html": [
       "<div>\n",
       "<table border=\"1\" class=\"dataframe\">\n",
       "  <thead>\n",
       "    <tr style=\"text-align: right;\">\n",
       "      <th></th>\n",
       "      <th>徳川</th>\n",
       "      <th>豊臣</th>\n",
       "      <th>織田</th>\n",
       "      <th>武田</th>\n",
       "      <th>上杉</th>\n",
       "    </tr>\n",
       "  </thead>\n",
       "  <tbody>\n",
       "    <tr>\n",
       "      <th>0</th>\n",
       "      <td>0</td>\n",
       "      <td>0</td>\n",
       "      <td>0</td>\n",
       "      <td>0</td>\n",
       "      <td>0</td>\n",
       "    </tr>\n",
       "    <tr>\n",
       "      <th>1</th>\n",
       "      <td>0</td>\n",
       "      <td>0</td>\n",
       "      <td>0</td>\n",
       "      <td>0</td>\n",
       "      <td>0</td>\n",
       "    </tr>\n",
       "    <tr>\n",
       "      <th>2</th>\n",
       "      <td>0</td>\n",
       "      <td>0</td>\n",
       "      <td>0</td>\n",
       "      <td>1</td>\n",
       "      <td>0</td>\n",
       "    </tr>\n",
       "    <tr>\n",
       "      <th>3</th>\n",
       "      <td>1</td>\n",
       "      <td>0</td>\n",
       "      <td>0</td>\n",
       "      <td>0</td>\n",
       "      <td>0</td>\n",
       "    </tr>\n",
       "    <tr>\n",
       "      <th>4</th>\n",
       "      <td>1</td>\n",
       "      <td>0</td>\n",
       "      <td>1</td>\n",
       "      <td>1</td>\n",
       "      <td>0</td>\n",
       "    </tr>\n",
       "  </tbody>\n",
       "</table>\n",
       "</div>"
      ],
      "text/plain": [
       "   徳川   豊臣   織田   武田   上杉\n",
       "0   0    0    0    0    0\n",
       "1   0    0    0    0    0\n",
       "2   0    0    0    1    0\n",
       "3   1    0    0    0    0\n",
       "4   1    0    1    1    0"
      ]
     },
     "execution_count": 2,
     "metadata": {},
     "output_type": "execute_result"
    }
   ],
   "source": [
    "data = pd.read_csv('~/tmp/testdata1.csv')\n",
    "data.head()"
   ]
  },
  {
   "cell_type": "code",
   "execution_count": 3,
   "metadata": {
    "collapsed": false
   },
   "outputs": [
    {
     "name": "stdout",
     "output_type": "stream",
     "text": [
      "[[ -1.17618278e+00   7.69705911e-01  -1.52809374e+00]\n",
      " [ -3.91601341e-01   4.44943986e-01  -8.80113797e-01]\n",
      " [ -5.29048667e-02   8.23437268e-01  -6.42488126e-02]\n",
      " [  2.01318185e-01   5.04390174e-01   3.99131854e-01]\n",
      " [  1.15882655e+00   8.25754815e-01   1.40335428e+00]\n",
      " [  1.21581377e+00   9.13599813e-01   1.33079468e+00]\n",
      " [  1.57426875e+00   1.04562219e+00   1.50558086e+00]\n",
      " [  1.68993942e+01   2.60584950e+02   6.48517661e-02]\n",
      " [  1.16967184e+00   8.44594208e-01   1.38489209e+00]\n",
      " [  1.18116242e+00   9.75250803e-01   1.21113709e+00]]\n"
     ]
    }
   ],
   "source": [
    "r = pyper.R(use_pandas='True')\n",
    "r.assign('data', data)\n",
    "r(\"require(ltm)\")\n",
    "r(\"model2 <- ltm(data~z1, IRT.param=TRUE)\")\n",
    "val = r.get('summary(model2)')\n",
    "\n",
    "v = val['coefficients']\n",
    "print(v)"
   ]
  },
  {
   "cell_type": "code",
   "execution_count": 4,
   "metadata": {
    "collapsed": false
   },
   "outputs": [
    {
     "name": "stdout",
     "output_type": "stream",
     "text": [
      "['徳川', ' 豊臣', ' 織田', ' 武田', ' 上杉']\n",
      "[1.2158137738704999, 1.5742687503641899, 16.899394224450202, 1.16967183728793, 1.1811624201719699]\n",
      "[-1.1761827818975401, -0.39160134082849202, -0.052904866739016697, 0.20131818492536299, 1.1588265500100701]\n"
     ]
    }
   ],
   "source": [
    "column = data.columns\n",
    "l = []\n",
    "for i in range(len(column)):\n",
    "    l.append(column[i])\n",
    "\n",
    "n = len(v) // 2\n",
    "a = []\n",
    "b = []\n",
    "for i in range(n):\n",
    "    a.append(v[i+n][0])\n",
    "    b.append(v[i][0])\n",
    "\n",
    "print(l)\n",
    "print(a)\n",
    "print(b)"
   ]
  },
  {
   "cell_type": "code",
   "execution_count": 5,
   "metadata": {
    "collapsed": false
   },
   "outputs": [],
   "source": [
    "%matplotlib inline"
   ]
  },
  {
   "cell_type": "code",
   "execution_count": 6,
   "metadata": {
    "collapsed": true
   },
   "outputs": [],
   "source": [
    "def model2pl(a, b, xarray):\n",
    "    ans = []\n",
    "    for x in xarray:\n",
    "        exppart = math.exp( -1.701 * a * (x - b))\n",
    "        ans.append( 1.0 / (1.0 + exppart))\n",
    "    return np.array(ans)"
   ]
  },
  {
   "cell_type": "code",
   "execution_count": 7,
   "metadata": {
    "collapsed": false
   },
   "outputs": [
    {
     "data": {
      "text/plain": [
       "<matplotlib.legend.Legend at 0x109f80da0>"
      ]
     },
     "execution_count": 7,
     "metadata": {},
     "output_type": "execute_result"
    },
    {
     "data": {
      "image/png": "[encoded data removed]",
      "text/plain": [
       "<matplotlib.figure.Figure at 0x109f057f0>"
      ]
     },
     "metadata": {},
     "output_type": "display_data"
    }
   ],
   "source": [
    "x = np.arange(-4.0, 4.0+0.01, 0.1)\n",
    "\n",
    "fig = plt.figure()\n",
    "ax = fig.add_subplot(1, 1, 1)\n",
    "for i in range(len(l)):\n",
    "    val_a = a[i]\n",
    "    val_b = b[i]\n",
    "    ax.plot(x, model2pl(val_a, val_b, x), label = l[i])\n",
    "ax.set_xlim(-4, 4)\n",
    "ax.set_ylim(0, 1)\n",
    "ax.set_title('ICC Graph')\n",
    "ax.set_xlabel('Ability (θ)')\n",
    "ax.set_ylabel('Probability')\n",
    "plt.legend(loc='lower right')"
   ]
  },
  {
   "cell_type": "code",
   "execution_count": 8,
   "metadata": {
    "collapsed": true
   },
   "outputs": [],
   "source": [
    "fig.savefig('graph.pdf')"
   ]
  }
 ],
 "metadata": {
  "kernelspec": {
   "display_name": "Python 3",
   "language": "python",
   "name": "python3"
  },
  "language_info": {
   "codemirror_mode": {
    "name": "ipython",
    "version": 3
   },
   "file_extension": ".py",
   "mimetype": "text/x-python",
   "name": "python",
   "nbconvert_exporter": "python",
   "pygments_lexer": "ipython3",
   "version": "3.5.1"
  }
 },
 "nbformat": 4,
 "nbformat_minor": 0
}
